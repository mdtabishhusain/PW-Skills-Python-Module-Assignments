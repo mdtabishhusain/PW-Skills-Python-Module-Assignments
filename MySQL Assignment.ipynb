{
 "cells": [
  {
   "cell_type": "markdown",
   "id": "2354cfef-bb2b-4cd7-8613-5086fa49b231",
   "metadata": {},
   "source": [
    "### Q1. What is a database? Differentiate between SQL and NoSQL databases."
   ]
  },
  {
   "cell_type": "markdown",
   "id": "22f59890-f17f-450d-9c8f-6f96974dfb7d",
   "metadata": {},
   "source": [
    "#### Ans:\n",
    "A database is a structured collection of data that is organized, stored, and managed for easy access and retrieval.\n",
    "SQL databases are based on the relational model, where data is organized into tables with rows and columns, and relationships between tables are established using keys whereaas NoSQL databases depart from the rigid structure of relational databases and offer more flexible data models. They are designed to handle various types of data, including unstructured, semi-structured, and structured data."
   ]
  },
  {
   "cell_type": "markdown",
   "id": "742928ae-8b9b-446c-9547-540fc670f956",
   "metadata": {},
   "source": [
    "### Q2. What is DDL? Explain why CREATE, DROP, ALTER, and TRUNCATE are used with an example."
   ]
  },
  {
   "cell_type": "markdown",
   "id": "f0f7edb2-aaa1-4353-951e-0773b8add6ce",
   "metadata": {},
   "source": [
    "#### Ans:\n",
    "DDL stands for Data Definition Language, which is a subset of SQL (Structured Query Language) used to define, modify, and manage the structure of a database and its objects. DDL statements are used to create, alter, and delete database objects such as tables, indexes, views, and schemas."
   ]
  },
  {
   "cell_type": "markdown",
   "id": "76b0630d-1202-48b8-bfc4-08b159abdc74",
   "metadata": {},
   "source": [
    "The CREATE statement is used to create new database objects such as tables, indexes, and views.\n"
   ]
  },
  {
   "cell_type": "markdown",
   "id": "1cdc3fcf-97b1-4963-bd60-dce902679ddd",
   "metadata": {},
   "source": [
    "The DROP statement is used to delete existing database objects. It permanently removes the object and all associated data."
   ]
  },
  {
   "cell_type": "markdown",
   "id": "daf9a8ce-4651-4295-8722-78d91f6ec7b4",
   "metadata": {},
   "source": [
    "The ALTER statement is used to modify the structure of an existing database object, such as adding or dropping columns, modifying column data types, or renaming objects."
   ]
  },
  {
   "cell_type": "markdown",
   "id": "fe726cf8-2469-4a50-ab91-04f2a1e2991a",
   "metadata": {},
   "source": [
    "The TRUNCATE statement is used to remove all data from a table while keeping the table structure intact. Unlike the DELETE statement, TRUNCATE is more efficient because it doesn't log individual row deletions.\n",
    "#### Example:"
   ]
  },
  {
   "cell_type": "code",
   "execution_count": 1,
   "id": "59acbaf6-3116-4ef5-92ce-c2731b54f2f1",
   "metadata": {},
   "outputs": [
    {
     "ename": "OperationalError",
     "evalue": "duplicate column name: Email",
     "output_type": "error",
     "traceback": [
      "\u001b[0;31m---------------------------------------------------------------------------\u001b[0m",
      "\u001b[0;31mOperationalError\u001b[0m                          Traceback (most recent call last)",
      "Cell \u001b[0;32mIn[1], line 29\u001b[0m\n\u001b[1;32m     24\u001b[0m \u001b[38;5;66;03m# ALTER TABLE (Add a new column)\u001b[39;00m\n\u001b[1;32m     25\u001b[0m alter_table_query \u001b[38;5;241m=\u001b[39m \u001b[38;5;124m'''\u001b[39m\n\u001b[1;32m     26\u001b[0m \u001b[38;5;124mALTER TABLE Employees\u001b[39m\n\u001b[1;32m     27\u001b[0m \u001b[38;5;124mADD COLUMN Email TEXT;\u001b[39m\n\u001b[1;32m     28\u001b[0m \u001b[38;5;124m'''\u001b[39m\n\u001b[0;32m---> 29\u001b[0m \u001b[43mcursor\u001b[49m\u001b[38;5;241;43m.\u001b[39;49m\u001b[43mexecute\u001b[49m\u001b[43m(\u001b[49m\u001b[43malter_table_query\u001b[49m\u001b[43m)\u001b[49m\n\u001b[1;32m     31\u001b[0m \u001b[38;5;66;03m# TRUNCATE TABLE (Delete all rows)\u001b[39;00m\n\u001b[1;32m     32\u001b[0m truncate_table_query \u001b[38;5;241m=\u001b[39m \u001b[38;5;124m'''\u001b[39m\n\u001b[1;32m     33\u001b[0m \u001b[38;5;124mDELETE FROM Employees;\u001b[39m\n\u001b[1;32m     34\u001b[0m \u001b[38;5;124m'''\u001b[39m\n",
      "\u001b[0;31mOperationalError\u001b[0m: duplicate column name: Email"
     ]
    }
   ],
   "source": [
    "import sqlite3\n",
    "\n",
    "# Connect to the database (create a new one if it doesn't exist)\n",
    "conn = sqlite3.connect('example.db')\n",
    "cursor = conn.cursor()\n",
    "\n",
    "# CREATE TABLE\n",
    "create_table_query = '''\n",
    "CREATE TABLE IF NOT EXISTS Employees (\n",
    "    EmployeeID INTEGER PRIMARY KEY,\n",
    "    FirstName TEXT,\n",
    "    LastName TEXT,\n",
    "    Department TEXT\n",
    ");\n",
    "'''\n",
    "cursor.execute(create_table_query)\n",
    "\n",
    "# DROP TABLE\n",
    "drop_table_query = '''\n",
    "DROP TABLE IF EXISTS Customers;\n",
    "'''\n",
    "cursor.execute(drop_table_query)\n",
    "\n",
    "# ALTER TABLE (Add a new column)\n",
    "alter_table_query = '''\n",
    "ALTER TABLE Employees\n",
    "ADD COLUMN Email TEXT;\n",
    "'''\n",
    "cursor.execute(alter_table_query)\n",
    "\n",
    "# TRUNCATE TABLE (Delete all rows)\n",
    "truncate_table_query = '''\n",
    "DELETE FROM Employees;\n",
    "'''\n",
    "cursor.execute(truncate_table_query)\n",
    "\n",
    "# Commit the changes and close the connection\n",
    "conn.commit()\n",
    "conn.close()"
   ]
  },
  {
   "cell_type": "markdown",
   "id": "783151b5-13a1-4172-8e28-79cbcd52eeec",
   "metadata": {},
   "source": [
    "### Q3. What is DML? Explain INSERT, UPDATE, and DELETE with an example."
   ]
  },
  {
   "cell_type": "markdown",
   "id": "c55d9706-13eb-4e46-b062-7c0f12f4603a",
   "metadata": {},
   "source": [
    "#### Ans:\n",
    "DML stands for Data Manipulation Language, which is a subset of SQL (Structured Query Language) used to manipulate and interact with the data stored within a database. DML statements are used to insert, update, and delete data from database tables."
   ]
  },
  {
   "cell_type": "markdown",
   "id": "b2f0eb90-84f8-47b1-8541-def6d95691d9",
   "metadata": {},
   "source": [
    "The INSERT statement is used to add new rows of data into a table. It specifies the table name and the values to be inserted into each column."
   ]
  },
  {
   "cell_type": "markdown",
   "id": "2dcb3ea8-b1b3-4e9c-8da6-c79f9237b6d7",
   "metadata": {},
   "source": [
    "The UPDATE statement is used to modify existing data in a table. It specifies the table name, the columns to be updated, and the new values."
   ]
  },
  {
   "cell_type": "markdown",
   "id": "1cf230bd-a967-456d-a0d4-bbb01bc59442",
   "metadata": {},
   "source": [
    "The DELETE statement is used to remove rows from a table based on specified conditions. It deletes the data from the table, but the table structure remains unchanged.\n",
    "#### Example:"
   ]
  },
  {
   "cell_type": "code",
   "execution_count": 2,
   "id": "bd704da3-47b8-4d36-b0c3-148e274747b0",
   "metadata": {},
   "outputs": [],
   "source": [
    "import sqlite3\n",
    "\n",
    "# Connect to the database (create a new one if it doesn't exist)\n",
    "conn = sqlite3.connect('example.db')\n",
    "cursor = conn.cursor()\n",
    "\n",
    "# CREATE TABLE (if it doesn't already exist)\n",
    "create_table_query = '''\n",
    "CREATE TABLE IF NOT EXISTS Users (\n",
    "    UserID INTEGER PRIMARY KEY,\n",
    "    FirstName TEXT,\n",
    "    LastName TEXT,\n",
    "    Age INTEGER\n",
    ");\n",
    "'''\n",
    "cursor.execute(create_table_query)\n",
    "conn.commit()\n",
    "\n",
    "# INSERT data\n",
    "insert_query = '''\n",
    "INSERT INTO Users (FirstName, LastName, Age)\n",
    "VALUES (?, ?, ?);\n",
    "'''\n",
    "user_data = ('John', 'Doe', 30)\n",
    "cursor.execute(insert_query, user_data)\n",
    "conn.commit()\n",
    "\n",
    "# UPDATE data\n",
    "update_query = '''\n",
    "UPDATE Users\n",
    "SET Age = ?\n",
    "WHERE UserID = ?;\n",
    "'''\n",
    "new_age = 31\n",
    "user_id = 1\n",
    "cursor.execute(update_query, (new_age, user_id))\n",
    "conn.commit()\n",
    "\n",
    "# DELETE data\n",
    "delete_query = '''\n",
    "DELETE FROM Users\n",
    "WHERE UserID = ?;\n",
    "'''\n",
    "cursor.execute(delete_query, (user_id,))\n",
    "conn.commit()\n",
    "\n",
    "# Close the connection\n",
    "conn.close()"
   ]
  },
  {
   "cell_type": "markdown",
   "id": "b5602a3a-d74a-4f0f-84b2-d55974d65426",
   "metadata": {},
   "source": [
    "### Q4. What is DQL? Explain SELECT with an example."
   ]
  },
  {
   "cell_type": "markdown",
   "id": "05add789-2c72-43e6-8e55-f95afc50e165",
   "metadata": {},
   "source": [
    "#### Ans:\n",
    "DQL stands for Data Query Language, which is a subset of SQL (Structured Query Language) used for querying and retrieving data from a database.\n",
    "\n",
    "The SELECT statement is used to retrieve data from a database table. It allows you to specify the columns you want to retrieve, the table you're querying, and optional conditions to filter the results. "
   ]
  },
  {
   "cell_type": "code",
   "execution_count": 2,
   "id": "8269b43d-937d-465c-8068-8a4994cc650a",
   "metadata": {},
   "outputs": [],
   "source": [
    "import sqlite3\n",
    "\n",
    "# Connect to the database (assuming it already exists)\n",
    "conn = sqlite3.connect('example.db')\n",
    "cursor = conn.cursor()\n",
    "\n",
    "# SELECT data\n",
    "select_query = '''\n",
    "SELECT FirstName, LastName, Department\n",
    "FROM Employees\n",
    "WHERE Department = 'Sales';\n",
    "'''\n",
    "cursor.execute(select_query)\n",
    "\n",
    "# Fetch and print the results\n",
    "results = cursor.fetchall()\n",
    "for row in results:\n",
    "    print(\"First Name:\", row[0])\n",
    "    print(\"Last Name:\", row[1])\n",
    "    print(\"Department:\", row[2])\n",
    "    print(\"------------\")\n",
    "\n",
    "# Close the connection\n",
    "conn.close()"
   ]
  },
  {
   "cell_type": "markdown",
   "id": "018b6b3f-cb54-4fb4-8468-956b15e7730f",
   "metadata": {},
   "source": [
    "### Q5. Explain Primary Key and Foreign Key."
   ]
  },
  {
   "cell_type": "markdown",
   "id": "f70e0589-5965-4d35-b4a0-6d0e2b96cc11",
   "metadata": {},
   "source": [
    "#### Ans:\n",
    "##### Primary Key\n",
    "A primary key is a field (or combination of fields) in a database table that uniquely identifies each row or record in that table. It serves as a unique identifier for the data in the table, ensuring that no two rows have the same primary key value. Primary keys play a crucial role in maintaining data integrity and establishing relationships between tables.\n",
    "##### Foreign Key\n",
    "A foreign key is a field in one database table that refers to the primary key in another table. It establishes a link or relationship between two tables by referencing the primary key of another table. This relationship is used to enforce referential integrity, ensuring that data remains consistent across related tables."
   ]
  },
  {
   "cell_type": "markdown",
   "id": "c8ba1576-c4bd-45a2-94de-dbd8be6c11e3",
   "metadata": {},
   "source": [
    "### Q6. Write a python code to connect MySQL to python. Explain the cursor() and execute() method."
   ]
  },
  {
   "cell_type": "markdown",
   "id": "4cac190b-81ad-4e31-92d4-79a6af60010c",
   "metadata": {},
   "source": [
    "#### Ans:\n",
    "##### Cursor:\n",
    "A cursor is an object that enables you to interact with the database. It allows you to execute SQL queries and fetch the results. We can create a cursor using the cursor() method on the database connection object.\n",
    "##### Execute:\n",
    "The execute() method of the cursor object is used to execute SQL queries."
   ]
  },
  {
   "cell_type": "code",
   "execution_count": 5,
   "id": "883d279e-b3f7-431e-a85e-c8f555c785c4",
   "metadata": {},
   "outputs": [
    {
     "ename": "ModuleNotFoundError",
     "evalue": "No module named 'mysql'",
     "output_type": "error",
     "traceback": [
      "\u001b[0;31m---------------------------------------------------------------------------\u001b[0m",
      "\u001b[0;31mModuleNotFoundError\u001b[0m                       Traceback (most recent call last)",
      "Cell \u001b[0;32mIn[5], line 1\u001b[0m\n\u001b[0;32m----> 1\u001b[0m \u001b[38;5;28;01mimport\u001b[39;00m \u001b[38;5;21;01mmysql\u001b[39;00m\u001b[38;5;21;01m.\u001b[39;00m\u001b[38;5;21;01mconnector\u001b[39;00m\n\u001b[1;32m      2\u001b[0m mydb \u001b[38;5;241m=\u001b[39m mysql\u001b[38;5;241m.\u001b[39mconnector\u001b[38;5;241m.\u001b[39mconnect(\n\u001b[1;32m      3\u001b[0m   host\u001b[38;5;241m=\u001b[39m\u001b[38;5;124m\"\u001b[39m\u001b[38;5;124mlocalhost\u001b[39m\u001b[38;5;124m\"\u001b[39m,\n\u001b[1;32m      4\u001b[0m   user\u001b[38;5;241m=\u001b[39m\u001b[38;5;124m\"\u001b[39m\u001b[38;5;124mabc\u001b[39m\u001b[38;5;124m\"\u001b[39m,\n\u001b[1;32m      5\u001b[0m   password\u001b[38;5;241m=\u001b[39m\u001b[38;5;124m\"\u001b[39m\u001b[38;5;124mpassword\u001b[39m\u001b[38;5;124m\"\u001b[39m\n\u001b[1;32m      6\u001b[0m )\n\u001b[1;32m      7\u001b[0m \u001b[38;5;28mprint\u001b[39m(mydb)\n",
      "\u001b[0;31mModuleNotFoundError\u001b[0m: No module named 'mysql'"
     ]
    }
   ],
   "source": [
    "import mysql.connector\n",
    "mydb = mysql.connector.connect(\n",
    "  host=\"localhost\",\n",
    "  user=\"abc\",\n",
    "  password=\"password\"\n",
    ")\n",
    "print(mydb)\n",
    "mycursor = mydb.cursor()\n",
    "mycursor.execute(\"CREATE DATABASE if not exists test3\")\n",
    "mydb.close()"
   ]
  },
  {
   "cell_type": "markdown",
   "id": "5c9178df-1559-4331-a877-e4e0bf21d935",
   "metadata": {},
   "source": [
    "### Q7. Give the order of execution of SQL clauses in an SQL query."
   ]
  },
  {
   "cell_type": "markdown",
   "id": "6858ce7a-f6b3-4070-8c8b-106041d11d3b",
   "metadata": {},
   "source": [
    "#### Ans:\n",
    "In a typical SQL query, the order of execution of SQL clauses follows a specific sequence. \n",
    "Here's the typical order of execution for the main clauses in an SQL query:"
   ]
  },
  {
   "cell_type": "markdown",
   "id": "5e4b87b1-e0d8-4d98-a1bf-66a9d7187f65",
   "metadata": {},
   "source": [
    "1. **SELECT:** This clause specifies which columns you want to retrieve from the database.\n",
    "\n",
    "2. **FROM:** This clause specifies the table or tables from which you want to retrieve data.\n",
    "\n",
    "3. **JOIN:** If you're using JOIN operations to combine data from multiple tables, these are executed after the FROM clause. The JOIN operations determine how the tables are related.\n",
    "\n",
    "4. **WHERE:** The WHERE clause filters the rows based on specified conditions. It restricts the results to only those that meet the given criteria.\n",
    "\n",
    "5. **GROUP BY:** If you're using grouping for aggregate functions like COUNT, SUM, AVG, etc., the GROUP BY clause is executed next. It groups rows based on specified columns.\n",
    "\n",
    "6. **HAVING:** The HAVING clause filters the grouped results based on specified conditions. It works similarly to the WHERE clause but is applied after grouping.\n",
    "\n",
    "7. **ORDER BY:** The ORDER BY clause sorts the final result set based on specified columns and sorting directions (ASC or DESC).\n",
    "\n",
    "8. **LIMIT/OFFSET:** If you're using these clauses to limit the number of rows returned or skip a certain number of rows, they are applied last.\n",
    "\n",
    "It's important to note that not all SQL queries will include every clause listed above. The order of clauses can vary based on the specific requirements of your query. The clauses that are not used in a particular query are simply skipped during execution."
   ]
  }
 ],
 "metadata": {
  "kernelspec": {
   "display_name": "Python 3 (ipykernel)",
   "language": "python",
   "name": "python3"
  },
  "language_info": {
   "codemirror_mode": {
    "name": "ipython",
    "version": 3
   },
   "file_extension": ".py",
   "mimetype": "text/x-python",
   "name": "python",
   "nbconvert_exporter": "python",
   "pygments_lexer": "ipython3",
   "version": "3.10.8"
  }
 },
 "nbformat": 4,
 "nbformat_minor": 5
}
