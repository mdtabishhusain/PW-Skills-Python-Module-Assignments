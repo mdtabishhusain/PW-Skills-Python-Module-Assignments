{
 "cells": [
  {
   "cell_type": "markdown",
   "id": "cb3b31ac-5391-46b0-9e70-3a3ec595f764",
   "metadata": {},
   "source": [
    "# Exception Handling Assignment - 2"
   ]
  },
  {
   "cell_type": "markdown",
   "id": "94f6e086-6830-4363-822f-770087c1cad3",
   "metadata": {},
   "source": [
    "### Q1. Explain why we have to use the Exception class while creating a Custom Exception.\n",
    "\n",
    "#### Note: Here Exception class refers to the base class for all the exceptions."
   ]
  },
  {
   "cell_type": "markdown",
   "id": "f69da7e0-d516-439a-9c7e-5d95665f20c5",
   "metadata": {},
   "source": [
    "### Answer:\n",
    "We use Exception class while creating a custom exception in order to inherit attributes of Exception.\n",
    "\n",
    "**Lets see an example:**"
   ]
  },
  {
   "cell_type": "code",
   "execution_count": 2,
   "id": "73cebc80-f75b-4de7-bb42-41bc9a82bb7d",
   "metadata": {},
   "outputs": [],
   "source": [
    "class ResultChecker(Exception):\n",
    "    def __init__ (self, msg):\n",
    "        self.msg = msg"
   ]
  },
  {
   "cell_type": "code",
   "execution_count": 7,
   "id": "16945421-180c-46a2-8b80-14b7c9bed1e4",
   "metadata": {},
   "outputs": [],
   "source": [
    "def ResultCheck(num):\n",
    "    if num < 0:\n",
    "        raise ResultChecker (\"Entered marks are undetermined\")\n",
    "    elif 30 <= num:\n",
    "        print(\"You have passed exams\")\n",
    "    else:\n",
    "        print(\"You have failed exams\")"
   ]
  },
  {
   "cell_type": "code",
   "execution_count": 13,
   "id": "ed25dff0-223d-47bd-ba68-744dc247e79f",
   "metadata": {},
   "outputs": [
    {
     "name": "stdin",
     "output_type": "stream",
     "text": [
      "Enter your score in numbers 48\n"
     ]
    },
    {
     "name": "stdout",
     "output_type": "stream",
     "text": [
      "You have passed exams\n"
     ]
    }
   ],
   "source": [
    "try:\n",
    "    num = int(input(\"Enter your score in numbers\"))\n",
    "    ResultCheck(num)\n",
    "except ResultChecker as e:\n",
    "    print(e)"
   ]
  },
  {
   "cell_type": "markdown",
   "id": "6b447b5d-0fee-4bc3-9835-852535d991d7",
   "metadata": {},
   "source": [
    "By using the Exception class as the base for ResultChecker, we ensure that it behaves like a standard exception class, making it easier to handle and manage in various scenarios within the language's exception framework."
   ]
  },
  {
   "cell_type": "markdown",
   "id": "bd3e3476-d819-4072-b9ce-93e20befd064",
   "metadata": {},
   "source": [
    "### Q2. Write a python program to print Python Exception Hierarchy."
   ]
  },
  {
   "cell_type": "code",
   "execution_count": 14,
   "id": "74d1f5fe-e7ba-4bff-9d38-72b5d102ed84",
   "metadata": {},
   "outputs": [
    {
     "name": "stdout",
     "output_type": "stream",
     "text": [
      "BaseException\n",
      "    Exception\n",
      "        TypeError\n",
      "            FloatOperation\n",
      "            MultipartConversionError\n",
      "        StopAsyncIteration\n",
      "        StopIteration\n",
      "        ImportError\n",
      "            ModuleNotFoundError\n",
      "            ZipImportError\n",
      "        OSError\n",
      "            ConnectionError\n",
      "                BrokenPipeError\n",
      "                ConnectionAbortedError\n",
      "                ConnectionRefusedError\n",
      "                ConnectionResetError\n",
      "                    RemoteDisconnected\n",
      "            BlockingIOError\n",
      "            ChildProcessError\n",
      "            FileExistsError\n",
      "            FileNotFoundError\n",
      "            IsADirectoryError\n",
      "            NotADirectoryError\n",
      "            InterruptedError\n",
      "                InterruptedSystemCall\n",
      "            PermissionError\n",
      "            ProcessLookupError\n",
      "            TimeoutError\n",
      "            UnsupportedOperation\n",
      "            itimer_error\n",
      "            herror\n",
      "            gaierror\n",
      "            SSLError\n",
      "                SSLCertVerificationError\n",
      "                SSLZeroReturnError\n",
      "                SSLWantWriteError\n",
      "                SSLWantReadError\n",
      "                SSLSyscallError\n",
      "                SSLEOFError\n",
      "            Error\n",
      "                SameFileError\n",
      "            SpecialFileError\n",
      "            ExecError\n",
      "            ReadError\n",
      "            URLError\n",
      "                HTTPError\n",
      "                ContentTooShortError\n",
      "            BadGzipFile\n",
      "        EOFError\n",
      "            IncompleteReadError\n",
      "        RuntimeError\n",
      "            RecursionError\n",
      "            NotImplementedError\n",
      "                ZMQVersionError\n",
      "                StdinNotImplementedError\n",
      "            _DeadlockError\n",
      "            BrokenBarrierError\n",
      "            BrokenExecutor\n",
      "                BrokenThreadPool\n",
      "            SendfileNotAvailableError\n",
      "            ExtractionError\n",
      "            VariableError\n",
      "        NameError\n",
      "            UnboundLocalError\n",
      "        AttributeError\n",
      "            FrozenInstanceError\n",
      "        SyntaxError\n",
      "            IndentationError\n",
      "                TabError\n",
      "        LookupError\n",
      "            IndexError\n",
      "            KeyError\n",
      "                NoSuchKernel\n",
      "                UnknownBackend\n",
      "            CodecRegistryError\n",
      "        ValueError\n",
      "            UnicodeError\n",
      "                UnicodeEncodeError\n",
      "                UnicodeDecodeError\n",
      "                UnicodeTranslateError\n",
      "            UnsupportedOperation\n",
      "            JSONDecodeError\n",
      "            SSLCertVerificationError\n",
      "            Error\n",
      "            UnsupportedDigestmodError\n",
      "            IllegalMonthError\n",
      "            IllegalWeekdayError\n",
      "            ParserError\n",
      "            ClassNotFound\n",
      "            ClipboardEmpty\n",
      "            MessageDefect\n",
      "                NoBoundaryInMultipartDefect\n",
      "                StartBoundaryNotFoundDefect\n",
      "                CloseBoundaryNotFoundDefect\n",
      "                FirstHeaderLineIsContinuationDefect\n",
      "                MisplacedEnvelopeHeaderDefect\n",
      "                MissingHeaderBodySeparatorDefect\n",
      "                MultipartInvariantViolationDefect\n",
      "                InvalidMultipartContentTransferEncodingDefect\n",
      "                UndecodableBytesDefect\n",
      "                InvalidBase64PaddingDefect\n",
      "                InvalidBase64CharactersDefect\n",
      "                InvalidBase64LengthDefect\n",
      "                HeaderDefect\n",
      "                    InvalidHeaderDefect\n",
      "                    HeaderMissingRequiredValue\n",
      "                    NonPrintableDefect\n",
      "                    ObsoleteHeaderDefect\n",
      "                    NonASCIILocalPartDefect\n",
      "                    InvalidDateDefect\n",
      "            MacroToEdit\n",
      "            InvalidFileException\n",
      "            UnequalIterablesError\n",
      "            InvalidVersion\n",
      "            _InvalidELFFileHeader\n",
      "            InvalidWheelFilename\n",
      "            InvalidSdistFilename\n",
      "            InvalidSpecifier\n",
      "            InvalidMarker\n",
      "            UndefinedComparison\n",
      "            UndefinedEnvironmentName\n",
      "            InvalidRequirement\n",
      "                RequirementParseError\n",
      "            InvalidVersion\n",
      "        AssertionError\n",
      "        ArithmeticError\n",
      "            FloatingPointError\n",
      "            OverflowError\n",
      "            ZeroDivisionError\n",
      "                DivisionByZero\n",
      "                DivisionUndefined\n",
      "            DecimalException\n",
      "                Clamped\n",
      "                Rounded\n",
      "                    Underflow\n",
      "                    Overflow\n",
      "                Inexact\n",
      "                    Underflow\n",
      "                    Overflow\n",
      "                Subnormal\n",
      "                    Underflow\n",
      "                DivisionByZero\n",
      "                FloatOperation\n",
      "                InvalidOperation\n",
      "                    ConversionSyntax\n",
      "                    DivisionImpossible\n",
      "                    DivisionUndefined\n",
      "                    InvalidContext\n",
      "        SystemError\n",
      "            CodecRegistryError\n",
      "        ReferenceError\n",
      "        MemoryError\n",
      "        BufferError\n",
      "        Warning\n",
      "            UserWarning\n",
      "                GetPassWarning\n",
      "                FormatterWarning\n",
      "            EncodingWarning\n",
      "            DeprecationWarning\n",
      "                ProvisionalWarning\n",
      "            PendingDeprecationWarning\n",
      "            SyntaxWarning\n",
      "            RuntimeWarning\n",
      "                ProactorSelectorThreadWarning\n",
      "                UnknownTimezoneWarning\n",
      "                PEP440Warning\n",
      "            FutureWarning\n",
      "                ProvisionalCompleterWarning\n",
      "            ImportWarning\n",
      "            UnicodeWarning\n",
      "            BytesWarning\n",
      "            ResourceWarning\n",
      "            DeprecatedTzFormatWarning\n",
      "            PkgResourcesDeprecationWarning\n",
      "        _OptionError\n",
      "        _Error\n",
      "        error\n",
      "        Verbose\n",
      "        Error\n",
      "        SubprocessError\n",
      "            CalledProcessError\n",
      "            TimeoutExpired\n",
      "        TokenError\n",
      "        StopTokenizing\n",
      "        ClassFoundException\n",
      "        EndOfBlock\n",
      "        TraitError\n",
      "        Error\n",
      "        Error\n",
      "            CancelledError\n",
      "            TimeoutError\n",
      "            InvalidStateError\n",
      "        _GiveupOnSendfile\n",
      "        error\n",
      "        Incomplete\n",
      "        TimeoutError\n",
      "        InvalidStateError\n",
      "        LimitOverrunError\n",
      "        QueueEmpty\n",
      "        QueueFull\n",
      "        Empty\n",
      "        Full\n",
      "        ArgumentError\n",
      "        ZMQBaseError\n",
      "            ZMQError\n",
      "                ContextTerminated\n",
      "                Again\n",
      "                InterruptedSystemCall\n",
      "            ZMQBindError\n",
      "            NotDone\n",
      "        PickleError\n",
      "            PicklingError\n",
      "            UnpicklingError\n",
      "        _Stop\n",
      "        ArgumentError\n",
      "        ArgumentTypeError\n",
      "        ConfigError\n",
      "            ConfigLoaderError\n",
      "                ArgumentError\n",
      "            ConfigFileNotFound\n",
      "        ConfigurableError\n",
      "            MultipleInstanceError\n",
      "        ApplicationError\n",
      "        error\n",
      "        TimeoutError\n",
      "        error\n",
      "        ReturnValueIgnoredError\n",
      "        KeyReuseError\n",
      "        UnknownKeyError\n",
      "        LeakedCallbackError\n",
      "        BadYieldError\n",
      "        ReturnValueIgnoredError\n",
      "        Return\n",
      "        InvalidPortNumber\n",
      "        error\n",
      "        LZMAError\n",
      "        RegistryError\n",
      "        _GiveupOnFastCopy\n",
      "        Error\n",
      "            NoSectionError\n",
      "            DuplicateSectionError\n",
      "            DuplicateOptionError\n",
      "            NoOptionError\n",
      "            InterpolationError\n",
      "                InterpolationMissingOptionError\n",
      "                InterpolationSyntaxError\n",
      "                InterpolationDepthError\n",
      "            ParsingError\n",
      "                MissingSectionHeaderError\n",
      "        NoIPAddresses\n",
      "        BadZipFile\n",
      "        LargeZipFile\n",
      "        BadEntryPoint\n",
      "        NoSuchEntryPoint\n",
      "        DuplicateKernelError\n",
      "        ErrorDuringImport\n",
      "        NotOneValueFound\n",
      "        CannotEval\n",
      "        OptionError\n",
      "        BdbQuit\n",
      "        Restart\n",
      "        ExceptionPexpect\n",
      "            EOF\n",
      "            TIMEOUT\n",
      "        PtyProcessError\n",
      "        FindCmdError\n",
      "        HomeDirError\n",
      "        ProfileDirError\n",
      "        IPythonCoreError\n",
      "            TryNext\n",
      "            UsageError\n",
      "            StdinNotImplementedError\n",
      "        InputRejected\n",
      "        GetoptError\n",
      "        ErrorToken\n",
      "        PrefilterError\n",
      "        AliasError\n",
      "            InvalidAliasError\n",
      "        Error\n",
      "            InterfaceError\n",
      "            DatabaseError\n",
      "                InternalError\n",
      "                OperationalError\n",
      "                ProgrammingError\n",
      "                IntegrityError\n",
      "                DataError\n",
      "                NotSupportedError\n",
      "        Warning\n",
      "        SpaceInInput\n",
      "        DOMException\n",
      "            IndexSizeErr\n",
      "            DomstringSizeErr\n",
      "            HierarchyRequestErr\n",
      "            WrongDocumentErr\n",
      "            InvalidCharacterErr\n",
      "            NoDataAllowedErr\n",
      "            NoModificationAllowedErr\n",
      "            NotFoundErr\n",
      "            NotSupportedErr\n",
      "            InuseAttributeErr\n",
      "            InvalidStateErr\n",
      "            SyntaxErr\n",
      "            InvalidModificationErr\n",
      "            NamespaceErr\n",
      "            InvalidAccessErr\n",
      "            ValidationErr\n",
      "        ValidationError\n",
      "        EditReadOnlyBuffer\n",
      "        _Retry\n",
      "        InvalidLayoutError\n",
      "        HeightIsUnknownError\n",
      "        ParserSyntaxError\n",
      "        InternalParseError\n",
      "        _PositionUpdatingFinished\n",
      "        SimpleGetItemNotFound\n",
      "        UncaughtAttributeError\n",
      "        HasNoContext\n",
      "        ParamIssue\n",
      "        _JediError\n",
      "            InternalError\n",
      "            WrongVersion\n",
      "            RefactoringError\n",
      "        OnErrorLeaf\n",
      "        InvalidPythonEnvironment\n",
      "        MessageError\n",
      "            MessageParseError\n",
      "                HeaderParseError\n",
      "                BoundaryError\n",
      "            MultipartConversionError\n",
      "            CharsetError\n",
      "        Error\n",
      "        HTTPException\n",
      "            NotConnected\n",
      "            InvalidURL\n",
      "            UnknownProtocol\n",
      "            UnknownTransferEncoding\n",
      "            UnimplementedFileMode\n",
      "            IncompleteRead\n",
      "            ImproperConnectionState\n",
      "                CannotSendRequest\n",
      "                CannotSendHeader\n",
      "                ResponseNotReady\n",
      "            BadStatusLine\n",
      "                RemoteDisconnected\n",
      "            LineTooLong\n",
      "        InteractivelyDefined\n",
      "        KillEmbedded\n",
      "        Error\n",
      "            NoSuchProcess\n",
      "                ZombieProcess\n",
      "            AccessDenied\n",
      "            TimeoutExpired\n",
      "        _Ipv6UnsupportedError\n",
      "        QueueEmpty\n",
      "        QueueFull\n",
      "        DebuggerInitializationError\n",
      "        ExpatError\n",
      "        Error\n",
      "            ProtocolError\n",
      "            ResponseError\n",
      "            Fault\n",
      "        ParseBaseException\n",
      "            ParseException\n",
      "            ParseFatalException\n",
      "                ParseSyntaxException\n",
      "        RecursiveGrammarException\n",
      "        ResolutionError\n",
      "            VersionConflict\n",
      "                ContextualVersionConflict\n",
      "            DistributionNotFound\n",
      "            UnknownExtra\n",
      "        _Error\n",
      "        UnableToResolveVariableException\n",
      "        InvalidTypeInArgsException\n",
      "        ResultChecker\n",
      "        ResultChecker\n",
      "    GeneratorExit\n",
      "    SystemExit\n",
      "    KeyboardInterrupt\n",
      "    CancelledError\n",
      "    AbortThread\n"
     ]
    }
   ],
   "source": [
    "def print_exception_hierarchy(exception_class, indent=0):\n",
    "    print(\" \" * indent + f\"{exception_class.__name__}\")\n",
    "    for subclass in exception_class.__subclasses__():\n",
    "        print_exception_hierarchy(subclass, indent + 4)\n",
    "\n",
    "if __name__ == \"__main__\":\n",
    "    print_exception_hierarchy(BaseException)\n"
   ]
  },
  {
   "cell_type": "markdown",
   "id": "ad44b9a0-3bb4-430c-92dc-1751d2087172",
   "metadata": {},
   "source": [
    "### Q3. What errors are defined in the ArithmeticError class? Explain any two with an example."
   ]
  },
  {
   "cell_type": "markdown",
   "id": "e2997c48-e2eb-4c19-84c8-9c3728f38cd0",
   "metadata": {},
   "source": [
    "### Answer:\n",
    "The ArithmeticError class in Python is a base class for all arithmetic-related exceptions. It serves as the parent class for more specific arithmetic exception classes, which are used to handle errors related to mathematical operations. The two commonly used exceptions that inherit from ArithmeticError are ZeroDivisionError and OverflowError."
   ]
  },
  {
   "cell_type": "markdown",
   "id": "e6eb372a-111b-4cec-b341-069a6cbd002d",
   "metadata": {},
   "source": [
    "#### 1. ZeroDivisionError: \n",
    "This exception is raised when attempting to divide a number by zero."
   ]
  },
  {
   "cell_type": "code",
   "execution_count": 15,
   "id": "9f6f775e-73d4-4424-ac4f-5a30633ce86f",
   "metadata": {},
   "outputs": [
    {
     "data": {
      "text/plain": [
       "'Error:division by zero'"
      ]
     },
     "execution_count": 15,
     "metadata": {},
     "output_type": "execute_result"
    }
   ],
   "source": [
    "def divide_num(a,b):\n",
    "    try:\n",
    "        result = a/b\n",
    "        return result\n",
    "    except ZeroDivisionError as e:\n",
    "        return f\"Error:{e}\"\n",
    "divide_num(10,0)"
   ]
  },
  {
   "cell_type": "markdown",
   "id": "a5b4b995-65ea-46c5-8819-d442861b915d",
   "metadata": {},
   "source": [
    "#### 2. OverflowError: \n",
    "This exception is raised when an arithmetic operation results in a value that exceeds the representable range of the data type."
   ]
  },
  {
   "cell_type": "code",
   "execution_count": 14,
   "id": "dd1cb5f1-ac83-4ba4-b4ed-d41b383a1314",
   "metadata": {},
   "outputs": [
    {
     "name": "stdout",
     "output_type": "stream",
     "text": [
      "For i=1, n=8.000000\n",
      "For i=2, n=64.000000\n",
      "For i=3, n=262144.000000\n",
      "For i=4, n=4722366482869645213696.000000\n",
      "For i=5, n=2348542582773833227889480596789337027375682548908319870707290971532209025114608443463698998384768703031934976.000000\n",
      "Error:(34, 'Numerical result out of range')\n"
     ]
    }
   ],
   "source": [
    "try:\n",
    "    n = 8.0\n",
    "    for i in range(1, 100):\n",
    "        n = n ** i\n",
    "        print(\"For i=%d, n=%f\" %(i, n))\n",
    "except OverflowError as e:\n",
    "    print(f\"Error:{e}\")"
   ]
  },
  {
   "cell_type": "code",
   "execution_count": null,
   "id": "07f983be-f4b4-44c9-acee-acb4f4f5f214",
   "metadata": {},
   "outputs": [],
   "source": [
    "25/6"
   ]
  },
  {
   "cell_type": "markdown",
   "id": "096e5127-8a0d-44e2-b8dd-10a8a43b32c1",
   "metadata": {},
   "source": [
    "### Q4. Why LookupError class is used? Explain with an example KeyError and IndexError."
   ]
  },
  {
   "cell_type": "markdown",
   "id": "475a91ce-5884-4c71-ae3e-5d7ced034b2c",
   "metadata": {},
   "source": [
    "The LookupError class is used as a base class for exceptions that occur when an item is not found during a lookup process. It is a subclass of the more general Exception class and is used to categorize lookup-related errors. The LookupError class itself does not define any specific errors, but it serves as a parent class for more specific lookup-related exception classes like KeyError and IndexError."
   ]
  },
  {
   "cell_type": "markdown",
   "id": "738d7c9d-97df-4691-8f2f-1a95f09197fb",
   "metadata": {},
   "source": [
    "#### 1. KeyError: \n",
    "- This exception is raised when a dictionary key is not found in a dictionary.\n",
    "\n",
    "For Example:"
   ]
  },
  {
   "cell_type": "code",
   "execution_count": 11,
   "id": "ef5e674d-3f2f-47a8-9e34-6557aa7f0c92",
   "metadata": {},
   "outputs": [
    {
     "name": "stdout",
     "output_type": "stream",
     "text": [
      "Error: 'grape' not found\n"
     ]
    }
   ],
   "source": [
    "my_dict = {\"apple\":1, \"banana\":2, \"orange\":3}\n",
    "\n",
    "try:\n",
    "    value = my_dict[\"grape\"]\n",
    "except KeyError as e :\n",
    "    print(\"Error: %s not found\" %(e))"
   ]
  },
  {
   "cell_type": "markdown",
   "id": "1bdb4d45-fd9d-45f5-a6f4-139f1e7ee141",
   "metadata": {},
   "source": [
    "#### 2. IndexError: \n",
    "- This exception is raised when you try to access an index in a sequence (like a list or tuple) that is out of range.\n",
    "\n",
    "For Example:"
   ]
  },
  {
   "cell_type": "code",
   "execution_count": 1,
   "id": "af3db0eb-2b16-41ff-a125-85fa5d6af8bf",
   "metadata": {},
   "outputs": [
    {
     "name": "stdout",
     "output_type": "stream",
     "text": [
      "Error: list index out of range\n"
     ]
    }
   ],
   "source": [
    "my_list = [10,20,30]\n",
    "\n",
    "try:\n",
    "    element = my_list[3]\n",
    "except IndexError as e:\n",
    "    print(\"Error:\", e)"
   ]
  },
  {
   "cell_type": "markdown",
   "id": "70b46fe0-c8a9-4aab-929e-55c7c0afb848",
   "metadata": {},
   "source": [
    "### Q5. Explain ImportError. What is ModuleNotFoundError?"
   ]
  },
  {
   "cell_type": "markdown",
   "id": "e95093aa-8e73-46aa-825f-2ce03de7353d",
   "metadata": {},
   "source": [
    "ImportError and ModuleNotFoundError are both exceptions related to importing modules in Python."
   ]
  },
  {
   "cell_type": "markdown",
   "id": "3c24bf88-3290-41a7-b7fc-5382350913e6",
   "metadata": {},
   "source": [
    "#### 1. ImportError:\n",
    "- ImportError is a base class for exceptions that occur when there is an issue importing a module or a package. It can happen for various reasons, such as when the specified module does not exist, there are problems with the module's code, or there are import-related conflicts.\n",
    "\n",
    "Example:"
   ]
  },
  {
   "cell_type": "code",
   "execution_count": 2,
   "id": "a5208e24-4aad-4902-a5f1-4001acf8b2ea",
   "metadata": {},
   "outputs": [],
   "source": [
    "def my_func():\n",
    "    print(\"Hello from my_func\")"
   ]
  },
  {
   "cell_type": "code",
   "execution_count": 3,
   "id": "25933c7d-1693-428d-b4e2-8e714ae8b2f4",
   "metadata": {},
   "outputs": [
    {
     "name": "stdout",
     "output_type": "stream",
     "text": [
      "ImportError: No module named 'mymodule'\n"
     ]
    }
   ],
   "source": [
    "try:\n",
    "    import mymodule\n",
    "except ImportError as e:\n",
    "    print(\"ImportError:\",e)"
   ]
  },
  {
   "cell_type": "markdown",
   "id": "5a6a89e7-60d6-4c10-b18d-dbdd83ac3f7c",
   "metadata": {},
   "source": [
    "#### 2. ModuleNotFoundError:\n",
    "- ModuleNotFoundError is a subclass of ImportError that specifically indicates that the module being imported could not be found. It was introduced in Python 3.6 to provide a more specific exception when the interpreter fails to locate the desired module.\n",
    "\n",
    "Example:"
   ]
  },
  {
   "cell_type": "code",
   "execution_count": 5,
   "id": "26af85c5-11d3-40d5-80fd-7be757c3c03f",
   "metadata": {},
   "outputs": [
    {
     "name": "stdout",
     "output_type": "stream",
     "text": [
      "ModuleNotFoundError: No module named 'mynonexistingmodule'\n"
     ]
    }
   ],
   "source": [
    "try:\n",
    "    import mynonexistingmodule\n",
    "except ModuleNotFoundError as e:\n",
    "    print(\"ModuleNotFoundError:\", e)"
   ]
  },
  {
   "cell_type": "markdown",
   "id": "862d6fbb-7c8c-41f9-a834-b26041e9f2a9",
   "metadata": {},
   "source": [
    "### Q6. List down some best practices for exception handling in python."
   ]
  },
  {
   "cell_type": "markdown",
   "id": "f2efcbe2-45c5-4482-af0b-dd33f356c0c0",
   "metadata": {},
   "source": [
    "#### Best practices for exception handling in python are:\n",
    "1. Always use specific exception\n",
    "2. Always print a proper message.\n",
    "3. Always try to log your error.\n",
    "4. Always try to avoid writing multiple exception handling.\n",
    "5. Document all the error and clean up all the resources"
   ]
  },
  {
   "cell_type": "code",
   "execution_count": null,
   "id": "3f4b9a1c-7672-4e85-a76e-b3ecce01887d",
   "metadata": {},
   "outputs": [],
   "source": []
  }
 ],
 "metadata": {
  "kernelspec": {
   "display_name": "Python 3 (ipykernel)",
   "language": "python",
   "name": "python3"
  },
  "language_info": {
   "codemirror_mode": {
    "name": "ipython",
    "version": 3
   },
   "file_extension": ".py",
   "mimetype": "text/x-python",
   "name": "python",
   "nbconvert_exporter": "python",
   "pygments_lexer": "ipython3",
   "version": "3.10.8"
  }
 },
 "nbformat": 4,
 "nbformat_minor": 5
}
