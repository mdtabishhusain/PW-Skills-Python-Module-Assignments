{
 "cells": [
  {
   "cell_type": "markdown",
   "id": "8c68d815-e361-4b74-8387-093a40d3d862",
   "metadata": {},
   "source": [
    "# Multiprocessing Assignment"
   ]
  },
  {
   "cell_type": "markdown",
   "id": "dd4c1a2c-419e-4344-ba6b-75c665155da1",
   "metadata": {},
   "source": [
    "### Q1. What is multiprocessing in python? Why is it useful?"
   ]
  },
  {
   "cell_type": "markdown",
   "id": "2fe38849-20e2-430b-8acc-1465fa4bbcef",
   "metadata": {},
   "source": [
    "Multiprocessing is the method in which we engage multiple processor in executing multiple threads and establish communication channel between them and get the output."
   ]
  },
  {
   "cell_type": "markdown",
   "id": "7a3cfe71-6df3-42b5-bc95-d972537a65e7",
   "metadata": {},
   "source": [
    "Multiprocessing is used to achieve true parallelism, improve performance for CPU-bound tasks, and efficiently utilize modern hardware capabilities. It is particularly beneficial for computationally intensive applications and scenarios where tasks can be executed independently in parallel."
   ]
  },
  {
   "cell_type": "markdown",
   "id": "1fe6e763-2008-4fc5-94aa-2354b4effa72",
   "metadata": {},
   "source": [
    "### Q2. What are the differences between multiprocessing and multithreading?"
   ]
  },
  {
   "cell_type": "markdown",
   "id": "f9cb06d7-d1a5-4a50-be8a-372d5d179321",
   "metadata": {},
   "source": [
    "Multiprocessing is the method in which we engage multiple processor of a cpu for executing multiple threads and establish communication channel between them and get the output whereas in multithreading we run multiple programs in one core of the cpu."
   ]
  },
  {
   "cell_type": "markdown",
   "id": "3afab72d-3f2e-4ca7-bbcb-ad99386e06ba",
   "metadata": {},
   "source": [
    "### Q3. Write a python code to create a process using the multiprocessing module."
   ]
  },
  {
   "cell_type": "code",
   "execution_count": 14,
   "id": "95c838f3-29f4-449b-a7fe-1b5cb9f24053",
   "metadata": {},
   "outputs": [
    {
     "name": "stdout",
     "output_type": "stream",
     "text": [
      "hello from process Process 1\n",
      "hello from process Process 2\n",
      "hello from process Process 3\n",
      "Main process is exiting.\n"
     ]
    }
   ],
   "source": [
    "import multiprocessing\n",
    "\n",
    "def process_func(name):\n",
    "    print(\"hello from process %s\" %(name))\n",
    "    \n",
    "if __name__ == \"__main__\":\n",
    "    processes = []\n",
    "    for i in range(3):\n",
    "        process = multiprocessing.Process(target=process_func, args=(\"Process %d\"%(i+1),))\n",
    "        processes.append(process)\n",
    "        \n",
    "    for process in processes:\n",
    "        process.start()\n",
    "        \n",
    "    for process in processes:\n",
    "        process.join()\n",
    "        \n",
    "    print(\"Main process is exiting.\")"
   ]
  },
  {
   "cell_type": "markdown",
   "id": "8210b97a-ad66-47f8-a389-93a563a4d9e3",
   "metadata": {},
   "source": [
    "### Q4. What is a multiprocessing pool in python? Why is it used?"
   ]
  },
  {
   "cell_type": "code",
   "execution_count": 17,
   "id": "6c887ffb-9127-4bf7-b153-4b0c555cc911",
   "metadata": {},
   "outputs": [
    {
     "name": "stdout",
     "output_type": "stream",
     "text": [
      "Results: [1, 4, 9, 16, 25, 36, 49, 64, 81, 100]\n"
     ]
    }
   ],
   "source": [
    "import multiprocessing\n",
    "\n",
    "def task_func(num):\n",
    "    return num * num\n",
    "\n",
    "if __name__ == \"__main__\":\n",
    "    numbers = [1,2,3,4,5,6,7,8,9,10]\n",
    "    \n",
    "    with multiprocessing.Pool(processes=4) as pool:\n",
    "        results = pool.map(task_func, numbers)\n",
    "        \n",
    "    print('Results:', results)"
   ]
  },
  {
   "cell_type": "markdown",
   "id": "3bc1044c-9d26-4560-b809-c712c27f138d",
   "metadata": {},
   "source": [
    "### Q5. How can we create a pool of worker processes in python using the multiprocessing module?"
   ]
  },
  {
   "cell_type": "markdown",
   "id": "3fa6df49-36bb-4880-a303-3e85be06bbf8",
   "metadata": {},
   "source": [
    "To create a pool of worker processes in Python using the multiprocessing module, we use the Pool class provided by the module. The Pool class allows us to manage a pool of worker processes that can execute functions asynchronously.\n",
    "\n",
    "**Step 1:** \n",
    "- Import the multiprocessing module.\n",
    "**Step 2:** \n",
    "- Define the function that will be executed by the worker processes.\n",
    "**Step 3:**\n",
    "- Create a pool of worker processes.\n",
    "\n",
    "\n",
    "#### Implementation:"
   ]
  },
  {
   "cell_type": "code",
   "execution_count": 20,
   "id": "696763be-5dc9-4d81-9f91-f57f87aa855d",
   "metadata": {},
   "outputs": [
    {
     "name": "stdout",
     "output_type": "stream",
     "text": [
      "Results: [2, 4, 6, 8, 10]\n"
     ]
    }
   ],
   "source": [
    "import multiprocessing\n",
    "def worker_function(task):\n",
    "    result = task * 2\n",
    "    return result\n",
    "def main():\n",
    "    num_processes = multiprocessing.cpu_count()\n",
    "\n",
    "    with multiprocessing.Pool(processes=num_processes) as pool:\n",
    "        tasks = [1, 2, 3, 4, 5]\n",
    "\n",
    "        results = pool.map(worker_function, tasks)\n",
    "\n",
    "    print(\"Results:\", results)\n",
    "\n",
    "if __name__ == \"__main__\":\n",
    "    main()\n"
   ]
  },
  {
   "cell_type": "markdown",
   "id": "c60ff5a1-f213-458f-be3d-fcc19d169ff8",
   "metadata": {},
   "source": [
    "### Q6. Write a python program to create 4 processes, each process should print a different number using the multiprocessing module in python."
   ]
  },
  {
   "cell_type": "code",
   "execution_count": 19,
   "id": "03d368a2-16ad-4562-b567-205dd6ae2f95",
   "metadata": {},
   "outputs": [
    {
     "name": "stdout",
     "output_type": "stream",
     "text": [
      "Process 1: 1\n",
      "Process 2: 2\n",
      "Process 3: 3\n",
      "Process 4: 4\n",
      "All processes finished\n"
     ]
    }
   ],
   "source": [
    "import multiprocessing\n",
    "def print_num(number):\n",
    "    print(\"Process %d: %d\"%(number,number))\n",
    "    \n",
    "if __name__ == '__main__':\n",
    "    processes = []\n",
    "    for i in range(1,5):\n",
    "        process = multiprocessing.Process(target=print_num, args=(i,))\n",
    "        processes.append(process)\n",
    "        \n",
    "    for process in processes:\n",
    "        process.start()\n",
    "        \n",
    "    for process in processes:\n",
    "        process.join()\n",
    "        \n",
    "    print(\"All processes finished\")"
   ]
  },
  {
   "cell_type": "code",
   "execution_count": null,
   "id": "2eccd976-29a9-401f-9e4e-c370e2a6e93e",
   "metadata": {},
   "outputs": [],
   "source": []
  }
 ],
 "metadata": {
  "kernelspec": {
   "display_name": "Python 3 (ipykernel)",
   "language": "python",
   "name": "python3"
  },
  "language_info": {
   "codemirror_mode": {
    "name": "ipython",
    "version": 3
   },
   "file_extension": ".py",
   "mimetype": "text/x-python",
   "name": "python",
   "nbconvert_exporter": "python",
   "pygments_lexer": "ipython3",
   "version": "3.10.8"
  }
 },
 "nbformat": 4,
 "nbformat_minor": 5
}
