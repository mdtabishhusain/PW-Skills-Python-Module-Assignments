{
 "cells": [
  {
   "cell_type": "markdown",
   "id": "2fd52d0b-f811-4db0-a97d-d0f1f2bbcd01",
   "metadata": {},
   "source": [
    "# Multithreading Assignment"
   ]
  },
  {
   "cell_type": "markdown",
   "id": "420dcf58-d045-4666-8d04-8444af706e0d",
   "metadata": {},
   "source": [
    "### Q1. What is multithreading in python? Why is it used? Name the module used to handle threads in python."
   ]
  },
  {
   "cell_type": "markdown",
   "id": "ee7a0612-1d1a-4e31-8258-ef8b58d11a4e",
   "metadata": {},
   "source": [
    "Multithreading is the process which allows to run multiple programs or threads at same time in single core of the cpu.\n",
    "\n",
    "Suppose we have a quad core system i.e. the processor has 4 cores. Whenever we run a program a core is reserved for the program to run. \n",
    "\n",
    "For instance core 1 is running program 1, core 2 is running program 2 similarly core 3 & 4 are running program 3 & 4 respectively. But there is still a lot of empty space in each core that can be used to run other programs in a single core and ease burden of other cores. That is why multithreading is used. \n",
    "\n",
    "The Module used to handle multithreading is 'threading'.\n"
   ]
  },
  {
   "cell_type": "markdown",
   "id": "77e7cd3a-04d2-4f22-b573-4055d937f728",
   "metadata": {},
   "source": [
    "### Q2. Why threading module is used? Write the use of the following functions:\n",
    "1. activeCount()\n",
    "2. currentThread()\n",
    "3. enumerate()"
   ]
  },
  {
   "cell_type": "markdown",
   "id": "e881a506-8b19-4578-99e2-5e8f778c68cc",
   "metadata": {},
   "source": [
    "The threading module in Python is used to work with threads and implement multithreading in Python programs. It provides a high-level interface for creating, managing, and synchronizing threads.\n",
    "\n",
    "1. activeCount():\n",
    "The activeCount() function is used to get the number of currently active thread objects in the program. An active thread is a thread that has not finished its execution yet or is still running."
   ]
  },
  {
   "cell_type": "code",
   "execution_count": 2,
   "id": "d0fc7421-6ae6-4ae3-8b0d-29eb0f910dbb",
   "metadata": {},
   "outputs": [
    {
     "name": "stdout",
     "output_type": "stream",
     "text": [
      "Hello from thread\n",
      "Hello from thread\n",
      "Hello from thread\n",
      "Hello from thread\n",
      "Hello from thread\n",
      "Number of activa threads: 8\n"
     ]
    },
    {
     "name": "stderr",
     "output_type": "stream",
     "text": [
      "/tmp/ipykernel_1878/4213785397.py:12: DeprecationWarning: activeCount() is deprecated, use active_count() instead\n",
      "  print(\"Number of activa threads:\", threading.activeCount())\n"
     ]
    }
   ],
   "source": [
    "import threading\n",
    "\n",
    "def my_func():\n",
    "    print(\"Hello from thread\")\n",
    "    \n",
    "threads = []\n",
    "for i in range(5):\n",
    "    thread = threading.Thread(target=my_func)\n",
    "    thread.start()\n",
    "    threads.append(thread)\n",
    "    \n",
    "print(\"Number of activa threads:\", threading.activeCount())"
   ]
  },
  {
   "cell_type": "markdown",
   "id": "0793a8dc-ecb0-408d-917e-2e8a64bbe5ac",
   "metadata": {},
   "source": [
    "2. currentThread():\n",
    "The currentThread() function is used to obtain a reference to the current thread object. The current thread is the thread that is executing the code at the moment the function is called."
   ]
  },
  {
   "cell_type": "code",
   "execution_count": 3,
   "id": "1d6dd24f-06f9-4212-862c-19ba5f60fd90",
   "metadata": {},
   "outputs": [
    {
     "name": "stdout",
     "output_type": "stream",
     "text": [
      "Hello from thread: Thread-10 (my_func)\n",
      "Hello from thread: Thread-11 (my_func)\n"
     ]
    },
    {
     "name": "stderr",
     "output_type": "stream",
     "text": [
      "/tmp/ipykernel_858/709051674.py:2: DeprecationWarning: currentThread() is deprecated, use current_thread() instead\n",
      "  curr_thrd = threading.currentThread()\n",
      "/tmp/ipykernel_858/709051674.py:3: DeprecationWarning: getName() is deprecated, get the name attribute instead\n",
      "  print(\"Hello from thread:\", curr_thrd.getName())\n"
     ]
    }
   ],
   "source": [
    "def my_func():\n",
    "    curr_thrd = threading.currentThread()\n",
    "    print(\"Hello from thread:\", curr_thrd.getName())\n",
    "    \n",
    "thrd1 = threading.Thread(target= my_func)\n",
    "thrd2 = threading.Thread(target= my_func)\n",
    "\n",
    "thrd1.start()\n",
    "thrd2.start()"
   ]
  },
  {
   "cell_type": "markdown",
   "id": "907dadcd-e7a5-42fd-b9cf-9d0b90f7af2f",
   "metadata": {},
   "source": [
    "3. enumerate():\n",
    "The enumerate() function returns a list of all currently active Thread objects. It is useful for getting a list of threads that are still running."
   ]
  },
  {
   "cell_type": "code",
   "execution_count": 3,
   "id": "b9fbdc39-c45e-4d2e-9a4b-0b4c23eaba54",
   "metadata": {},
   "outputs": [
    {
     "name": "stdout",
     "output_type": "stream",
     "text": [
      "Hello from thread\n",
      "Hello from thread\n",
      "Hello from thread\n",
      "Thread name: MainThread\n",
      "Thread name: IOPub\n",
      "Thread name: Heartbeat\n",
      "Thread name: Thread-3 (_watch_pipe_fd)\n",
      "Thread name: Thread-4 (_watch_pipe_fd)\n",
      "Thread name: Control\n",
      "Thread name: IPythonHistorySavingThread\n",
      "Thread name: Thread-2\n"
     ]
    },
    {
     "name": "stderr",
     "output_type": "stream",
     "text": [
      "/tmp/ipykernel_1878/2066310785.py:13: DeprecationWarning: getName() is deprecated, get the name attribute instead\n",
      "  print(\"Thread name:\", thread.getName())\n"
     ]
    }
   ],
   "source": [
    "import threading\n",
    "\n",
    "def my_func():\n",
    "    print(\"Hello from thread\")\n",
    "    \n",
    "threads = []\n",
    "for i in range(3):\n",
    "    thread = threading.Thread(target=my_func)\n",
    "    thread.start()\n",
    "    threads.append(thread)\n",
    "    \n",
    "for thread in threading.enumerate():\n",
    "    print(\"Thread name:\", thread.getName())"
   ]
  },
  {
   "cell_type": "markdown",
   "id": "0fad2bde-d07e-4e59-9875-d465068c84bd",
   "metadata": {},
   "source": [
    "### Q3. Explain the following functions\n",
    "1. run()\n",
    "2. start()\n",
    "3. join()\n",
    "4. isAlive()"
   ]
  },
  {
   "cell_type": "markdown",
   "id": "2c10015d-5a56-44d6-be06-a4cd68e250cf",
   "metadata": {},
   "source": [
    "#### 1. run():\n",
    "- The run() method is the entry point of activity for a thread. It defines the code that will be executed when the thread is started. In the threading.Thread class, the run() method is called when the start() method is invoked to begin the thread's execution.\n",
    "\n",
    "- Example:"
   ]
  },
  {
   "cell_type": "code",
   "execution_count": 4,
   "id": "bfff5ba5-9fd4-4a63-ae95-1933f6546b20",
   "metadata": {},
   "outputs": [
    {
     "name": "stdout",
     "output_type": "stream",
     "text": [
      "Hello from the thread\n"
     ]
    }
   ],
   "source": [
    "import threading\n",
    "\n",
    "class mythread(threading.Thread):\n",
    "    def run(self):\n",
    "        print(\"Hello from the thread\")\n",
    "        \n",
    "my_thrd = mythread()\n",
    "my_thrd.start()"
   ]
  },
  {
   "cell_type": "markdown",
   "id": "f7eb2f8b-96f8-486c-a97d-8602beb03007",
   "metadata": {},
   "source": [
    "#### 2. start():\n",
    "- The start() method is used to start the execution of a thread. It initializes the thread and calls the run() method defined in the thread's class. After invoking start(), the thread runs concurrently, and its run() method will be executed in a separate thread of execution.\n",
    "\n",
    "- Example:"
   ]
  },
  {
   "cell_type": "code",
   "execution_count": 5,
   "id": "8896d6ff-7bf8-409f-89f0-942222402e40",
   "metadata": {},
   "outputs": [
    {
     "name": "stdout",
     "output_type": "stream",
     "text": [
      "Hello from the thread\n"
     ]
    }
   ],
   "source": [
    "import threading\n",
    "\n",
    "def my_func():\n",
    "    print(\"Hello from the thread\")\n",
    "    \n",
    "my_thrd = threading.Thread(target=my_func)\n",
    "my_thrd.start()"
   ]
  },
  {
   "cell_type": "markdown",
   "id": "b3089723-74ca-4101-8481-cc6b5fd73770",
   "metadata": {},
   "source": [
    "#### 3. join()\n",
    "- The join() method is used to wait for a thread to complete its execution. When a thread calls join(), the calling thread will be blocked until the thread being joined has finished its work.\n",
    "\n",
    "- Example:"
   ]
  },
  {
   "cell_type": "code",
   "execution_count": 7,
   "id": "c1424259-8095-478b-9c68-eabf96f3e844",
   "metadata": {},
   "outputs": [
    {
     "name": "stdout",
     "output_type": "stream",
     "text": [
      "Hello from the thread\n",
      "Thread has completed its work.\n"
     ]
    }
   ],
   "source": [
    "import threading\n",
    "\n",
    "def my_func():\n",
    "    print(\"Hello from the thread\")\n",
    "my_thrd = threading.Thread(target=my_func)\n",
    "my_thrd.start()\n",
    "my_thrd.join()\n",
    "print(\"Thread has completed its work.\")"
   ]
  },
  {
   "cell_type": "markdown",
   "id": "cbddccd2-6038-4872-828c-489d10fb3815",
   "metadata": {},
   "source": [
    "#### 4. isAlive():\n",
    "- e isAlive() method is used to check whether a thread is currently running or not. It returns True if the thread is active (running) and False otherwise.\n",
    "- Note that python 3.9 doesn't support isAlive() instead it uses is_alive()\n",
    "- Example:"
   ]
  },
  {
   "cell_type": "code",
   "execution_count": 13,
   "id": "a9a9bb32-cae6-4170-b0f5-4adb4a91be4e",
   "metadata": {},
   "outputs": [
    {
     "name": "stdout",
     "output_type": "stream",
     "text": [
      "Is the thread alive? True\n",
      "Hello from the thread!\n",
      "Is the thread alive? False\n"
     ]
    }
   ],
   "source": [
    "import threading\n",
    "import time\n",
    "\n",
    "def my_func():\n",
    "    time.sleep(2)\n",
    "    print(\"Hello from the thread!\")\n",
    "    \n",
    "my_thrd = threading.Thread(target=my_func)\n",
    "my_thrd.start()\n",
    "\n",
    "print(\"Is the thread alive?\", my_thrd.is_alive())\n",
    "my_thrd.join()\n",
    "print(\"Is the thread alive?\", my_thrd.is_alive())"
   ]
  },
  {
   "cell_type": "markdown",
   "id": "1e639b71-4755-4b12-98d8-aabf72f73929",
   "metadata": {},
   "source": [
    "#### Q4. Write a python program to create two threads. Thread one must print the list of squares and thread two must print the list of cubes"
   ]
  },
  {
   "cell_type": "code",
   "execution_count": 25,
   "id": "8cc5ce0d-79f6-4c96-a628-bb4a14fdd6dd",
   "metadata": {},
   "outputs": [
    {
     "name": "stdout",
     "output_type": "stream",
     "text": [
      "List of Squares: [1, 4, 9, 16, 25]\n",
      "List of cubes: [1, 8, 27, 64, 125]\n",
      "Main thread is exiting.\n"
     ]
    }
   ],
   "source": [
    "import threading\n",
    "\n",
    "def squares(num):\n",
    "    square = [i*i for i in num]\n",
    "    print(\"List of Squares:\", square)\n",
    "    \n",
    "def cubes(num):\n",
    "    cube = [i*i*i for i in num]\n",
    "    print(\"List of cubes:\", cube)\n",
    "    \n",
    "if __name__ == \"__main__\":\n",
    "    num = [1, 2, 3, 4, 5]\n",
    "\n",
    "    thread1 = threading.Thread(target=squares, args=(num,))\n",
    "    thread2 = threading.Thread(target=cubes, args=(num,))\n",
    "\n",
    "    thread1.start()\n",
    "    thread2.start()\n",
    "\n",
    "    thread1.join()\n",
    "    thread2.join()\n",
    "    \n",
    "    print(\"Main thread is exiting.\")"
   ]
  },
  {
   "cell_type": "markdown",
   "id": "919a87ec-76b2-442b-855a-2445480b1fc3",
   "metadata": {},
   "source": [
    "### Q5. State advantages and disadvantages of multithreading"
   ]
  },
  {
   "cell_type": "markdown",
   "id": "25b68d7c-eec8-4ba3-a6e0-fe0b478b194c",
   "metadata": {},
   "source": [
    "#### Advantages of Multithreading:\n",
    "\n",
    "- Improved Performance: Utilizes multiple CPU cores for parallel execution, enhancing performance.\n",
    "- Concurrency: Allows concurrent execution of tasks, improving responsiveness.\n",
    "- Resource Sharing: Threads share memory space for easy data sharing.\n",
    "- Modularity: Simplifies complex tasks by breaking them into smaller threads.\n",
    "- Asynchronous Operations: Threads can work independently without blocking."
   ]
  },
  {
   "cell_type": "markdown",
   "id": "7337b009-79df-49a2-a67a-b69d0384abea",
   "metadata": {},
   "source": [
    "#### Disadvantages of Multithreading:\n",
    "\n",
    "- Complexity: Requires synchronization to avoid data issues.\n",
    "- Overhead: Thread creation consumes memory and CPU resources.\n",
    "- Debugging: More challenging to debug and test due to concurrent interactions.\n",
    "- Deadlocks: May result in situations where threads cannot proceed.\n",
    "- Global Interpreter Lock (GIL): Limits parallelism for CPU-bound tasks.\n",
    "- Scalability: May not lead to linear performance improvement."
   ]
  },
  {
   "cell_type": "markdown",
   "id": "5edc25e8-0f37-402d-b3f9-f642d2308cf2",
   "metadata": {},
   "source": [
    "### Q6. Explain deadlocks and race conditions."
   ]
  },
  {
   "cell_type": "markdown",
   "id": "d3508dcb-fc1a-4b40-9e2b-aa9dc7a7a05d",
   "metadata": {},
   "source": [
    "#### Deadlocks:\n",
    "\n",
    "- A deadlock is a situation in concurrent programming where two or more threads are unable to proceed with their execution because each thread is waiting for a resource held by another thread. This results in a circular dependency of threads, causing them to be stuck indefinitely, unable to make progress. Deadlocks are a common issue in multithreaded and multiprocessing environments.\n",
    "\n",
    "- To illustrate this concept, consider two threads, Thread A and Thread B, and two resources, Resource X and Resource Y. If Thread A locks Resource X and waits for Resource Y to be released by Thread B, while Thread B locks Resource Y and waits for Resource X to be released by Thread A, a deadlock occurs. Neither thread can proceed because each is waiting for a resource that the other thread holds.\n",
    "\n",
    "#### Race Conditions:\n",
    "\n",
    "- A race condition occurs when the behavior of a program depends on the relative timing or interleaving of events in concurrent execution. It arises when multiple threads access shared resources or variables, and the final outcome depends on the order in which the threads execute. Race conditions lead to non-deterministic behavior and may cause unexpected bugs or data corruption.\n",
    "\n",
    "- For example, suppose two threads, Thread A and Thread B, increment a shared variable counter. If both threads read the value of counter, increment it, and then write the updated value back to counter, there is a race condition. The final value of counter depends on the timing of the thread execution, and the outcome may not be what was intended. If both threads read the value of counter simultaneously, they might increment it and overwrite each other's changes."
   ]
  },
  {
   "cell_type": "code",
   "execution_count": null,
   "id": "2adc5dfd-f9c6-4b23-818d-cc1a1a1cb16a",
   "metadata": {},
   "outputs": [],
   "source": []
  }
 ],
 "metadata": {
  "kernelspec": {
   "display_name": "Python 3 (ipykernel)",
   "language": "python",
   "name": "python3"
  },
  "language_info": {
   "codemirror_mode": {
    "name": "ipython",
    "version": 3
   },
   "file_extension": ".py",
   "mimetype": "text/x-python",
   "name": "python",
   "nbconvert_exporter": "python",
   "pygments_lexer": "ipython3",
   "version": "3.10.8"
  }
 },
 "nbformat": 4,
 "nbformat_minor": 5
}
