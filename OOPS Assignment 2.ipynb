{
 "cells": [
  {
   "cell_type": "markdown",
   "id": "f7da514b-1e41-4c81-963d-48f01e12a704",
   "metadata": {},
   "source": [
    "# OOPS Assignment 2"
   ]
  },
  {
   "cell_type": "markdown",
   "id": "ba983c76-3ac4-4892-9958-f6494dc0930a",
   "metadata": {},
   "source": [
    "### Q1. What is Abstraction in OOps? Explain with an example."
   ]
  },
  {
   "cell_type": "markdown",
   "id": "163d527d-831e-4da3-80eb-452441771b78",
   "metadata": {},
   "source": [
    "Abstraction is a fundamental concept in object-oriented programming (OOP) that involves representing complex real-world entities as simplified models within a program. It focuses on capturing the essential features and behaviors of an object while hiding unnecessary details.\n",
    "\n",
    "It can also be stated as skeleton class"
   ]
  },
  {
   "cell_type": "code",
   "execution_count": 2,
   "id": "8c6d075a-d0b6-444f-b28c-b8dbe81e5fab",
   "metadata": {},
   "outputs": [
    {
     "name": "stdout",
     "output_type": "stream",
     "text": [
      "15\n",
      "16\n",
      "12.56\n",
      "12.56\n"
     ]
    }
   ],
   "source": [
    "import abc\n",
    "\n",
    "class Shape:\n",
    "    @abc.abstractmethod\n",
    "    def area(self):\n",
    "        pass\n",
    "\n",
    "    @abc.abstractmethod\n",
    "    def perimeter(self):\n",
    "        pass\n",
    "\n",
    "class Rectangle(Shape):\n",
    "    def __init__(self, width, height):\n",
    "        self.width = width\n",
    "        self.height = height\n",
    "\n",
    "    def area(self):\n",
    "        return self.width * self.height\n",
    "\n",
    "    def perimeter(self):\n",
    "        return 2 * (self.width + self.height)\n",
    "\n",
    "class Circle(Shape):\n",
    "    def __init__(self, radius):\n",
    "        self.radius = radius\n",
    "\n",
    "    def area(self):\n",
    "        return 3.14 * self.radius * self.radius\n",
    "\n",
    "    def perimeter(self):\n",
    "        return 2 * 3.14 * self.radius\n",
    "\n",
    "rectangle = Rectangle(5, 3)\n",
    "circle = Circle(2)\n",
    "\n",
    "print(rectangle.area())  # Output: 15\n",
    "print(rectangle.perimeter())  # Output: 16\n",
    "print(circle.area())  # Output: 12.56\n",
    "print(circle.perimeter())  # Output: 12.56\n"
   ]
  },
  {
   "cell_type": "markdown",
   "id": "ea711b3c-5570-44a7-9ee1-06e70ab8c579",
   "metadata": {},
   "source": [
    "### Q2. Differentiate between Abstraction and Encapsulation. Explain with an example."
   ]
  },
  {
   "cell_type": "markdown",
   "id": "30a5b5e7-62da-4695-b815-f314954cec1b",
   "metadata": {},
   "source": [
    "Abstraction and Encapsulation are both important concepts in OOP but serve different purposes. Abstraction focuses on simplifying and defining interfaces for complex entities, while encapsulation focuses on bundling data and methods together within a class, providing controlled access to the object's state. Both concepts contribute to code modularity, flexibility, and maintainability in OOP."
   ]
  },
  {
   "cell_type": "code",
   "execution_count": 4,
   "id": "503f4aa2-7334-44da-aea5-51ea0ed68f37",
   "metadata": {},
   "outputs": [
    {
     "name": "stdout",
     "output_type": "stream",
     "text": [
      "Woof!\n",
      "Meow!\n"
     ]
    }
   ],
   "source": [
    "import abc\n",
    "\n",
    "class Animal:\n",
    "    @abc.abstractmethod\n",
    "    def make_sound(self):\n",
    "        pass\n",
    "\n",
    "class Dog(Animal):\n",
    "    def make_sound(self):\n",
    "        print(\"Woof!\")\n",
    "\n",
    "class Cat(Animal):\n",
    "    def make_sound(self):\n",
    "        print(\"Meow!\")\n",
    "\n",
    "class AnimalShelter:\n",
    "    def __init__(self):\n",
    "        self.__animals = []\n",
    "\n",
    "    def add_animal(self, animal):\n",
    "        self.__animals.append(animal)\n",
    "\n",
    "    def make_sounds(self):\n",
    "        for animal in self.__animals:\n",
    "            animal.make_sound()\n",
    "\n",
    "dog = Dog()\n",
    "cat = Cat()\n",
    "\n",
    "shelter = AnimalShelter()\n",
    "shelter.add_animal(dog)\n",
    "shelter.add_animal(cat)\n",
    "\n",
    "shelter.make_sounds()"
   ]
  },
  {
   "cell_type": "markdown",
   "id": "162fc0d6-217e-4812-a529-f9fe93a317de",
   "metadata": {},
   "source": [
    "### Q3. What is abc module in python? Why is it used?"
   ]
  },
  {
   "cell_type": "markdown",
   "id": "e854992a-3b7c-4c68-9d02-aa3e068ebfb6",
   "metadata": {},
   "source": [
    "### Answer"
   ]
  },
  {
   "cell_type": "markdown",
   "id": "a1e206fb-efbc-452e-bcc6-84c337e9f9fe",
   "metadata": {},
   "source": [
    "The abc module in Python stands for \"Abstract Base Classes.\" It provides the infrastructure for defining abstract base classes (ABCs) in Python.\n",
    "\n",
    "The abc module is used to enforce and define a hierarchy of classes with a well-defined interface. It allows to specify a common set of methods that subclasses must implement, promoting code consistency and modularity. By using abstract base classes, we can create more robust and predictable class hierarchies, ensuring that classes conform to specific expectations."
   ]
  },
  {
   "cell_type": "markdown",
   "id": "539775d8-64b2-47cd-b6b8-595a93732b3d",
   "metadata": {},
   "source": [
    "### Q4. How can we achieve data abstraction?"
   ]
  },
  {
   "cell_type": "markdown",
   "id": "6545f317-e4f5-468d-81f7-7ad74c56657d",
   "metadata": {},
   "source": [
    "### Answer"
   ]
  },
  {
   "cell_type": "markdown",
   "id": "98d4f522-dc9d-4cd3-ab37-7fb92813baf4",
   "metadata": {},
   "source": [
    "Data abstraction can be achieved in Python through the use of classes, where we encapsulate data and behaviors into objects. By defining classes and their interfaces, we can hide the internal details of data and provide a simplified and controlled access to it. Here are a few ways to achieve data abstraction:"
   ]
  },
  {
   "cell_type": "markdown",
   "id": "941f9d67-3d49-4298-bf5a-aa77abc809ee",
   "metadata": {},
   "source": [
    "1. Encapsulation\n",
    "2. Access Modifiers\n",
    "3. Getters and Setters\n",
    "4. Property Decorators"
   ]
  },
  {
   "cell_type": "markdown",
   "id": "1d5320e7-8b6d-4811-b461-9d627c19355b",
   "metadata": {},
   "source": [
    "### Q5. Can we create an instance of an abstract class? Explain your answer."
   ]
  },
  {
   "cell_type": "markdown",
   "id": "f1f1a078-0932-434e-8521-d19a5a6714e4",
   "metadata": {},
   "source": [
    "No, we cannot create an instance of an abstract class in Python. Abstract classes are designed to serve as blueprints for other classes and cannot be instantiated on their own. The primary purpose of an abstract class is to provide a common interface and define a set of methods that derived classes must implement."
   ]
  },
  {
   "cell_type": "code",
   "execution_count": null,
   "id": "fa2e86dc-c1dd-43c4-aeae-53fef5fc8cb0",
   "metadata": {},
   "outputs": [],
   "source": [
    "import abc\n",
    "class AbstractClass:\n",
    "    @abc.abstractmethod\n",
    "    def abstract_method(self):\n",
    "        pass\n",
    "\n",
    "instance = AbstractClass()  # Raises TypeError: Can't instantiate abstract class AbstractClass with abstract methods abstract_method"
   ]
  },
  {
   "cell_type": "code",
   "execution_count": null,
   "id": "19095891-084c-4288-a841-e306fcfe5b5c",
   "metadata": {},
   "outputs": [],
   "source": []
  }
 ],
 "metadata": {
  "kernelspec": {
   "display_name": "Python 3 (ipykernel)",
   "language": "python",
   "name": "python3"
  },
  "language_info": {
   "codemirror_mode": {
    "name": "ipython",
    "version": 3
   },
   "file_extension": ".py",
   "mimetype": "text/x-python",
   "name": "python",
   "nbconvert_exporter": "python",
   "pygments_lexer": "ipython3",
   "version": "3.10.8"
  }
 },
 "nbformat": 4,
 "nbformat_minor": 5
}
