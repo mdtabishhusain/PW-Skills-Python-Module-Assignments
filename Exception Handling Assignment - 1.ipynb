{
 "cells": [
  {
   "cell_type": "markdown",
   "id": "475decd1-7441-4c22-88c9-a294914442b4",
   "metadata": {},
   "source": [
    "# Exception Handling Assignment - 1"
   ]
  },
  {
   "cell_type": "markdown",
   "id": "c3ba5943-533d-4f01-ab96-99f2f6dad16b",
   "metadata": {},
   "source": [
    "### Q1. What is an Exception in python? Write the difference between Exceptions and syntax errors"
   ]
  },
  {
   "cell_type": "markdown",
   "id": "25f5af5d-3b37-4603-8322-42ea954f1d16",
   "metadata": {},
   "source": [
    "An exception is an event that occurs during the execution of a program, which disrupts the normal flow of the program's instructions. When an exceptional situation arises, such as an error or unexpected behavior, Python raises an exception.\n",
    "\n",
    "Exceptions occur during runtime when an error or unexpected behavior is encountered, while syntax errors occur during the parsing phase due to issues in the code's structure and grammar."
   ]
  },
  {
   "cell_type": "markdown",
   "id": "a0f237de-efa7-4bb6-944a-e9767487768c",
   "metadata": {},
   "source": [
    "### Q2. What happens when an exception is not handled? Expalin with an example."
   ]
  },
  {
   "cell_type": "markdown",
   "id": "8c781818-4c3c-497c-8b23-3447a76143ae",
   "metadata": {},
   "source": [
    "When an exception is not handled in Python, it results in an uncaught exception, which can lead to the termination of the program with an error message."
   ]
  },
  {
   "cell_type": "code",
   "execution_count": 23,
   "id": "4dd169cd-4fbc-4512-9ced-7364a5659fee",
   "metadata": {},
   "outputs": [
    {
     "ename": "ZeroDivisionError",
     "evalue": "division by zero",
     "output_type": "error",
     "traceback": [
      "\u001b[0;31m---------------------------------------------------------------------------\u001b[0m",
      "\u001b[0;31mZeroDivisionError\u001b[0m                         Traceback (most recent call last)",
      "Cell \u001b[0;32mIn[23], line 5\u001b[0m\n\u001b[1;32m      3\u001b[0m     \u001b[38;5;28mprint\u001b[39m (result)\n\u001b[1;32m      4\u001b[0m     \u001b[38;5;28mprint\u001b[39m(a\u001b[38;5;241m+\u001b[39mb)\n\u001b[0;32m----> 5\u001b[0m \u001b[43mdivide_numbers\u001b[49m\u001b[43m(\u001b[49m\u001b[38;5;241;43m5\u001b[39;49m\u001b[43m,\u001b[49m\u001b[38;5;241;43m0\u001b[39;49m\u001b[43m)\u001b[49m\n",
      "Cell \u001b[0;32mIn[23], line 2\u001b[0m, in \u001b[0;36mdivide_numbers\u001b[0;34m(a, b)\u001b[0m\n\u001b[1;32m      1\u001b[0m \u001b[38;5;28;01mdef\u001b[39;00m \u001b[38;5;21mdivide_numbers\u001b[39m(a, b):\n\u001b[0;32m----> 2\u001b[0m     result \u001b[38;5;241m=\u001b[39m \u001b[43ma\u001b[49m\u001b[43m \u001b[49m\u001b[38;5;241;43m/\u001b[39;49m\u001b[43m \u001b[49m\u001b[43mb\u001b[49m\n\u001b[1;32m      3\u001b[0m     \u001b[38;5;28mprint\u001b[39m (result)\n\u001b[1;32m      4\u001b[0m     \u001b[38;5;28mprint\u001b[39m(a\u001b[38;5;241m+\u001b[39mb)\n",
      "\u001b[0;31mZeroDivisionError\u001b[0m: division by zero"
     ]
    }
   ],
   "source": [
    "def divide_numbers(a, b):\n",
    "    result = a / b\n",
    "    print (result)\n",
    "    print(a+b)\n",
    "divide_numbers(5,0)"
   ]
  },
  {
   "cell_type": "code",
   "execution_count": 24,
   "id": "8a01377a-4ea2-469d-bf22-730bfb9f07b2",
   "metadata": {},
   "outputs": [
    {
     "name": "stdout",
     "output_type": "stream",
     "text": [
      "division by zero\n"
     ]
    },
    {
     "data": {
      "text/plain": [
       "25"
      ]
     },
     "execution_count": 24,
     "metadata": {},
     "output_type": "execute_result"
    }
   ],
   "source": [
    "def divide_numbers(a, b):\n",
    "    \n",
    "    try:\n",
    "        result = a / b\n",
    "    \n",
    "    except ZeroDivisionError as e:\n",
    "        print (e)\n",
    "    \n",
    "    else:\n",
    "        print (result)\n",
    "    \n",
    "    finally:\n",
    "        return a+b\n",
    "    \n",
    "divide_numbers(25,0)"
   ]
  },
  {
   "cell_type": "markdown",
   "id": "ca973942-1fa5-498f-92dd-e976f14fb836",
   "metadata": {},
   "source": [
    "### Q3. Which Python statements are used to catch and handle exceptions? Explain with an example."
   ]
  },
  {
   "cell_type": "markdown",
   "id": "c6c97b87-305c-4db1-98a0-842e094ee0ea",
   "metadata": {},
   "source": [
    "There are four blocks in Exception handling:\n",
    "\n",
    "1. try: This is where we try our code to see if it has any error or not. If there is any error in the code, try block will send it to the except block. If not then the code is sent to the else block.\n",
    "\n",
    "2. except: The except block handle the error caught by the try block. It allows us to print custom errors. Also as it handles the error, therefore python will execute the next codes even if there is any error in between because the error is being handled. Also note that if there is no error in code as determined by try block then it will not reach the except block\n",
    "\n",
    "3. else: If try block doesn't find any error in the code then it is transferred to the else block. It is noticble that is there is any error in the code then except block is executed and else block will not be executed.\n",
    "\n",
    "4. finally: Finally block gets executed even if there is any error in the code or not. Finally will execute itself in any situation.\n"
   ]
  },
  {
   "cell_type": "markdown",
   "id": "d88485ce-3ac1-410d-99ef-a9b7cab2b3b1",
   "metadata": {},
   "source": [
    "**Example**"
   ]
  },
  {
   "cell_type": "code",
   "execution_count": 29,
   "id": "3109f96e-ffd1-4173-a2e0-d9b7026404b4",
   "metadata": {},
   "outputs": [
    {
     "name": "stdout",
     "output_type": "stream",
     "text": [
      "Error: Division by zero is not allowed\n",
      "Addition is equal to 25\n",
      "Division is successful result is 5\n",
      "Addition is equal to 30\n"
     ]
    }
   ],
   "source": [
    "def divide_num(a,b):\n",
    "    try:\n",
    "        result=a/b\n",
    "    except ZeroDivisionError as e:\n",
    "        print (\"Error: Division by zero is not allowed\")\n",
    "    else:\n",
    "        print(\"Division is successful result is\", int(result))\n",
    "\n",
    "    finally:\n",
    "        print(\"Addition is equal to\",a+b)\n",
    "        \n",
    "divide_num(25,0)\n",
    "divide_num(25,5)\n"
   ]
  },
  {
   "cell_type": "markdown",
   "id": "e040e3a1-49d8-44c9-9972-ed4890fb8271",
   "metadata": {},
   "source": [
    "### Q4. Explain with an exmple:\n",
    "1. try and else\n",
    "2. finally\"\n",
    "3. raise"
   ]
  },
  {
   "cell_type": "markdown",
   "id": "95e7583c-ab5f-4e90-a138-80a757802ffa",
   "metadata": {},
   "source": [
    "#### 1. try and else:\n",
    "\n",
    "This is where we try our code to see if it has any error or not. If there is any error in the code, try block will send it to the except block. If not then the code is sent to the else block.\n",
    "\n",
    "If try block doesn't find any error in the code then it is transferred to the else block. It is noticble that is there is any error in the code then except block is executed and else block will not be executed."
   ]
  },
  {
   "cell_type": "code",
   "execution_count": 34,
   "id": "123ab3bd-d83e-46e4-a52c-c76267323374",
   "metadata": {},
   "outputs": [
    {
     "name": "stdout",
     "output_type": "stream",
     "text": [
      "Error: Division by zero is not allowed\n",
      "Division is successful result is 5\n"
     ]
    }
   ],
   "source": [
    "def divide_num(a,b):\n",
    "    try:\n",
    "        result=a/b\n",
    "    except ZeroDivisionError as e:\n",
    "        print (\"Error: Division by zero is not allowed\")\n",
    "    else:\n",
    "        print(\"Division is successful result is\", int(result))\n",
    "divide_num(25,0)\n",
    "divide_num(25,5)"
   ]
  },
  {
   "cell_type": "markdown",
   "id": "53c0b9e3-0eed-4923-8ce2-b4cd96d1e2db",
   "metadata": {},
   "source": [
    "#### 2. finally"
   ]
  },
  {
   "cell_type": "markdown",
   "id": "cd37e354-4ede-4453-a3f9-e5260aaac917",
   "metadata": {},
   "source": [
    "Finally block gets executed even if there is any error in the code or not. Finally will execute itself in any situation.\n"
   ]
  },
  {
   "cell_type": "code",
   "execution_count": 3,
   "id": "33fcd02d-ee7a-4f73-b9eb-7faa3e040c61",
   "metadata": {},
   "outputs": [
    {
     "name": "stdout",
     "output_type": "stream",
     "text": [
      "not writable\n",
      "always print this\n"
     ]
    }
   ],
   "source": [
    "try:\n",
    "    f= open(\"file.txt\",'r')\n",
    "    f.write(\"write into my file\")\n",
    "except Exception as e:\n",
    "    print (e)\n",
    "else:\n",
    "    f.close()\n",
    "finally:\n",
    "    print(\"always print this\")\n",
    "        "
   ]
  },
  {
   "cell_type": "markdown",
   "id": "01f9622b-2de9-4732-9d48-9a476166953b",
   "metadata": {},
   "source": [
    "#### 3. raise"
   ]
  },
  {
   "cell_type": "markdown",
   "id": "60c8b8b1-0907-4f32-a3a8-0709d01b3642",
   "metadata": {},
   "source": [
    "The raise statement in Python is used to manually raise an exception. It allows you to create custom exceptions or re-raise existing exceptions. When you raise an exception, the program flow will immediately jump to the nearest except block that can handle the raised exception."
   ]
  },
  {
   "cell_type": "code",
   "execution_count": 8,
   "id": "fd0fc39d-188f-46bf-9669-840a26f27718",
   "metadata": {},
   "outputs": [
    {
     "name": "stdout",
     "output_type": "stream",
     "text": [
      "division is valid\n"
     ]
    }
   ],
   "source": [
    "def division_check(divident, divisor):\n",
    "   \n",
    "    if divisor == 0:\n",
    "        raise ValidateDivision(\"Cannot divide by zero\")\n",
    "    else:\n",
    "        divident/divisor\n",
    "        print(\"division is valid\")\n",
    "        \n",
    "division_check(25,5)"
   ]
  },
  {
   "cell_type": "markdown",
   "id": "3f585972-07f3-494e-bdf7-6e142c42a782",
   "metadata": {},
   "source": [
    "### Q5. What are Custom Exceptions in python? Why do we need Custom exceptions? Explain with an example."
   ]
  },
  {
   "cell_type": "markdown",
   "id": "e1703b23-772b-4558-9117-83bb01c42141",
   "metadata": {},
   "source": [
    "Custom exceptions in Python are user-defined exception classes created to represent specific error scenarios or exceptional situations that are unique to a particular application or module. By creating custom exceptions, developers can provide more meaningful and descriptive error messages to users or other developers, making it easier to identify and handle specific issues in their code.\n",
    "\n",
    "Custom exceptions allow developers to be more specific about the type of error that occurred. They can create different custom exception classes for various exceptional situations in their code, which makes it easier to distinguish between different types of errors and handle them accordingly."
   ]
  },
  {
   "cell_type": "code",
   "execution_count": 12,
   "id": "633fe2bc-a2b9-4aec-95ce-ede0ea3eff5a",
   "metadata": {},
   "outputs": [],
   "source": [
    "class ValidateHeight(Exception):\n",
    "    def __init__(self,msg):\n",
    "        self.msg = msg"
   ]
  },
  {
   "cell_type": "code",
   "execution_count": 14,
   "id": "4868da10-aaa4-47f5-a5c9-b32526911aa1",
   "metadata": {},
   "outputs": [],
   "source": [
    "def height_checker(height):\n",
    "    if 3 < height < 5:\n",
    "        raise ValidateHeight(\"You are very short\")\n",
    "    elif 5 < height < 6:\n",
    "        raise ValidateHeight(\"Your height is average\")\n",
    "    elif 6 < height < 7:\n",
    "        raise ValidateHeight(\"You are very tall\")\n",
    "    else:\n",
    "        print(\"Get complain\")"
   ]
  },
  {
   "cell_type": "code",
   "execution_count": 19,
   "id": "2c8aea73-f2d5-4940-b67d-7235e7aee4c3",
   "metadata": {},
   "outputs": [
    {
     "name": "stdin",
     "output_type": "stream",
     "text": [
      "Enter your height  5.11\n"
     ]
    },
    {
     "name": "stdout",
     "output_type": "stream",
     "text": [
      "Your height is average\n"
     ]
    }
   ],
   "source": [
    "try:\n",
    "    height = float(input(\"Enter your height \"))\n",
    "    height_checker(height)\n",
    "except ValidateHeight as h:\n",
    "    print (h)"
   ]
  },
  {
   "cell_type": "markdown",
   "id": "ab100d59-74b8-4088-bff0-e13804ed36bb",
   "metadata": {},
   "source": [
    "### Q6. Create a custom exception class. Use this class to handle an exception."
   ]
  },
  {
   "cell_type": "code",
   "execution_count": 20,
   "id": "b2598839-426a-49f3-8b2a-c1969af96f4d",
   "metadata": {},
   "outputs": [],
   "source": [
    "class ValidateWeight(Exception):\n",
    "    def __init__ (self,msg):\n",
    "        self.msg = msg"
   ]
  },
  {
   "cell_type": "code",
   "execution_count": 22,
   "id": "79bde974-60f2-4511-a22c-101890665e02",
   "metadata": {},
   "outputs": [],
   "source": [
    "def weight_checker(weight):\n",
    "    if weight <50:\n",
    "        raise ValidateWeight(\"You are under weight\")\n",
    "    elif 50 < weight < 60:\n",
    "        raise ValidateWeight(\"Your weight is average\")\n",
    "    elif 60 < weight < 80:\n",
    "        raise ValidateWeight(\"You have perfect weight\")\n",
    "    elif 80<weight:\n",
    "        raise ValidateWeight(\"You are over weight\")"
   ]
  },
  {
   "cell_type": "code",
   "execution_count": 24,
   "id": "bb2a0f4d-b41d-4e80-a458-d7fffd248548",
   "metadata": {},
   "outputs": [
    {
     "name": "stdin",
     "output_type": "stream",
     "text": [
      "Enter your weight 65\n"
     ]
    },
    {
     "name": "stdout",
     "output_type": "stream",
     "text": [
      "You have perfect weight\n"
     ]
    }
   ],
   "source": [
    "try:\n",
    "    weight = int(input(\"Enter your weight\"))\n",
    "    weight_checker(weight)\n",
    "except ValidateWeight as h:\n",
    "    print (h)"
   ]
  },
  {
   "cell_type": "code",
   "execution_count": null,
   "id": "6b864ad7-798e-4acc-b601-e07f8cd9a3f5",
   "metadata": {},
   "outputs": [],
   "source": []
  }
 ],
 "metadata": {
  "kernelspec": {
   "display_name": "Python 3 (ipykernel)",
   "language": "python",
   "name": "python3"
  },
  "language_info": {
   "codemirror_mode": {
    "name": "ipython",
    "version": 3
   },
   "file_extension": ".py",
   "mimetype": "text/x-python",
   "name": "python",
   "nbconvert_exporter": "python",
   "pygments_lexer": "ipython3",
   "version": "3.10.8"
  }
 },
 "nbformat": 4,
 "nbformat_minor": 5
}
